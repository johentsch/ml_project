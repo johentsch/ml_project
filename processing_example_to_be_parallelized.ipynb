{
 "cells": [
  {
   "cell_type": "markdown",
   "id": "cd1d61f6-bbcd-45c5-8349-d44c390e7b6f",
   "metadata": {},
   "source": [
    "Please use the current development version and report any bugs you encounter:\n",
    "`pip install git+https://github.com/DCMLab/wavescapes.git@corpus_structure`"
   ]
  },
  {
   "cell_type": "code",
   "execution_count": 1,
   "id": "31a1da4d-3ae8-4bf0-9aa6-03366c24e91e",
   "metadata": {},
   "outputs": [],
   "source": [
    "import os, shutil, subprocess\n",
    "import ms3"
   ]
  },
  {
   "cell_type": "code",
   "execution_count": 2,
   "id": "c6f1158c-ee29-4e77-aaa2-42a9fa89954d",
   "metadata": {},
   "outputs": [],
   "source": [
    "DATA_FOLDER = os.path.abspath('../mscz') # on the HPC: /scratch/data/musescore.com/\n",
    "SAMPLE_FOLDER = os.path.abspath('./mscz')\n",
    "CONVERSION_FOLDER = os.path.abspath('./mscx')\n",
    "OUTPUT_PATHS = dict(\n",
    "    events = os.path.abspath('./events'),\n",
    "    notes = os.path.abspath('./notes'),\n",
    "    measures = os.path.abspath('./measures'),\n",
    "    labels = os.path.abspath('./labels'),\n",
    "    metadata = os.path.abspath('./metadata'),\n",
    ")\n"
   ]
  },
  {
   "cell_type": "markdown",
   "id": "74a4f7b5-b46f-4c7f-a8ab-c6b0d847e0d8",
   "metadata": {},
   "source": [
    "Creating a sample of 1000 zipped MuseScore 3 for development purposes:"
   ]
  },
  {
   "cell_type": "raw",
   "id": "36f72309-e4a9-480b-9140-db4b2810dde4",
   "metadata": {},
   "source": [
    "for i, entry in enumerate(os.scandir(DATA_FOLDER)):\n",
    "    if i == 1000:\n",
    "        break\n",
    "    if entry.name.endswith('.mscz'):\n",
    "        shutil.copy(entry.path, os.path.join(SAMPLE_FOLDER, entry.name))"
   ]
  },
  {
   "cell_type": "markdown",
   "id": "e6fc1f6c-994f-4c0e-91aa-1d8f71ed2ca4",
   "metadata": {},
   "source": [
    "Using the MuseScore 3 binary to convert the file format to the current version of MuseScore 3 (needs to be installed or available as AppImage). [MuseScore commandline options](https://musescore.org/en/handbook/3/command-line-options)\n",
    "\n",
    "ToDos:\n",
    "\n",
    "* parallelize the conversion (anyone interested in learning [ray](https://www.ray.io/)?)\n",
    "* avoid processing files more than once, making use of the fact that the file names correspond to IDs\n",
    "* add proper error handling, keeping track of a mapping ID -> `errors message` for files that cannot successfully be converted (checkout stdout and stderr arguments of [subprocess.run()](https://docs.python.org/3/library/subprocess.html#subprocess.run))"
   ]
  },
  {
   "cell_type": "code",
   "execution_count": 3,
   "id": "d4124261-a3bd-4185-a4ab-c2d44500653f",
   "metadata": {},
   "outputs": [
    {
     "name": "stdout",
     "output_type": "stream",
     "text": [
      "C:\\Program Files\\MuseScore 3\\bin\\MuseScore3.exe\n"
     ]
    }
   ],
   "source": [
    "# indicate the path to your MuseScore 3 executable or try using the standard path:\n",
    "musescore_cmd = ms3.get_musescore('auto')\n",
    "print(musescore_cmd)"
   ]
  },
  {
   "cell_type": "code",
   "execution_count": 4,
   "id": "9ab78350-436d-4e9c-95b1-afbd079b692b",
   "metadata": {},
   "outputs": [
    {
     "name": "stdout",
     "output_type": "stream",
     "text": [
      "Converting D:\\musescore-dataset\\ml_project\\mscz\\100000.mscz to D:\\musescore-dataset\\ml_project\\mscx\\100000.mscx... Exit code: 1\n",
      "Result: m_crashReporterWChar: C:/Program Files/MuseScore 3/bin/MuseScore3-crash-reporter.exe\n",
      "Errors: Cannot read file D:\\musescore-dataset\\ml_project\\mscz\\100000.mscz:\n",
      "Converting D:\\musescore-dataset\\ml_project\\mscz\\100007.mscz to D:\\musescore-dataset\\ml_project\\mscx\\100007.mscx... Exit code: 1\n",
      "Result: m_crashReporterWChar: C:/Program Files/MuseScore 3/bin/MuseScore3-crash-reporter.exe\n",
      "Errors: Cannot read file D:\\musescore-dataset\\ml_project\\mscz\\100007.mscz:\n",
      "Converting D:\\musescore-dataset\\ml_project\\mscz\\100014.mscz to D:\\musescore-dataset\\ml_project\\mscx\\100014.mscx... Exit code: 1\n",
      "Result: m_crashReporterWChar: C:/Program Files/MuseScore 3/bin/MuseScore3-crash-reporter.exe\n",
      "Errors: Cannot read file D:\\musescore-dataset\\ml_project\\mscz\\100014.mscz:\n",
      "Converting D:\\musescore-dataset\\ml_project\\mscz\\1000256.mscz to D:\\musescore-dataset\\ml_project\\mscx\\1000256.mscx... Exit code: 1\n",
      "Result: m_crashReporterWChar: C:/Program Files/MuseScore 3/bin/MuseScore3-crash-reporter.exe\n",
      "Errors: Cannot read file D:\\musescore-dataset\\ml_project\\mscz\\1000256.mscz:\n",
      "Converting D:\\musescore-dataset\\ml_project\\mscz\\100027.mscz to D:\\musescore-dataset\\ml_project\\mscx\\100027.mscx... Exit code: 0\n",
      "Result: m_crashReporterWChar: C:/Program Files/MuseScore 3/bin/MuseScore3-crash-reporter.exe\n",
      "Errors: \n",
      "Converting D:\\musescore-dataset\\ml_project\\mscz\\100032.mscz to D:\\musescore-dataset\\ml_project\\mscx\\100032.mscx... Exit code: 0\n",
      "Result: m_crashReporterWChar: C:/Program Files/MuseScore 3/bin/MuseScore3-crash-reporter.exe\n",
      "Errors: \n",
      "Converting D:\\musescore-dataset\\ml_project\\mscz\\100039.mscz to D:\\musescore-dataset\\ml_project\\mscx\\100039.mscx... Exit code: 1\n",
      "Result: m_crashReporterWChar: C:/Program Files/MuseScore 3/bin/MuseScore3-crash-reporter.exe\n",
      "Errors: Cannot read file D:\\musescore-dataset\\ml_project\\mscz\\100039.mscz:\n",
      "Converting D:\\musescore-dataset\\ml_project\\mscz\\100052.mscz to D:\\musescore-dataset\\ml_project\\mscx\\100052.mscx... Exit code: 0\n",
      "Result: m_crashReporterWChar: C:/Program Files/MuseScore 3/bin/MuseScore3-crash-reporter.exe\n",
      "Errors: \n",
      "Converting D:\\musescore-dataset\\ml_project\\mscz\\100054.mscz to D:\\musescore-dataset\\ml_project\\mscx\\100054.mscx... Exit code: 1\n",
      "Result: m_crashReporterWChar: C:/Program Files/MuseScore 3/bin/MuseScore3-crash-reporter.exe\n",
      "Errors: Cannot read file D:\\musescore-dataset\\ml_project\\mscz\\100054.mscz:\n",
      "Converting D:\\musescore-dataset\\ml_project\\mscz\\100058.mscz to D:\\musescore-dataset\\ml_project\\mscx\\100058.mscx... Exit code: 1\n",
      "Result: m_crashReporterWChar: C:/Program Files/MuseScore 3/bin/MuseScore3-crash-reporter.exe\n",
      "Errors: Cannot read file D:\\musescore-dataset\\ml_project\\mscz\\100058.mscz:\n"
     ]
    }
   ],
   "source": [
    "for i, entry in enumerate(os.scandir(SAMPLE_FOLDER)):\n",
    "    if i == 10:\n",
    "        break\n",
    "    ID, file_extension = os.path.splitext(entry.name)\n",
    "    converted_file_path = os.path.join(CONVERSION_FOLDER, ID + '.mscx')\n",
    "    print(f\"Converting {entry.path} to {converted_file_path}...\", end=' ')\n",
    "    \n",
    "    result = subprocess.run([musescore_cmd,\"--score-meta\", \"-o\", converted_file_path, entry.path], capture_output=True, text=True)\n",
    "    print(f\"Exit code: {result.returncode}\")\n",
    "    print(f\"Result: {result.stdout.strip()}\") # the extraction of metadata as JSON does not work on Windows; please store the JSON to the metadata output folder\n",
    "    print(f\"Errors: {result.stderr.strip()}\")"
   ]
  },
  {
   "cell_type": "markdown",
   "id": "6e9c59fe-3459-429a-a896-86c25ae097e5",
   "metadata": {},
   "source": [
    "Using the ms3 parsing library to extract score information:"
   ]
  },
  {
   "cell_type": "code",
   "execution_count": 5,
   "id": "fe061330-b448-42b4-96b0-ee3671077685",
   "metadata": {},
   "outputs": [
    {
     "name": "stdout",
     "output_type": "stream",
     "text": [
      "INCORRECT_VOLTA_MN_WARNING (2, 15) ms3.Score.100027.mscx -- c:\\users\\hentsche\\pycharmprojects\\ms3\\src\\ms3\\bs4_measures.py (line 184) check_measure_numbers():\n",
      "\tMC 15, the 1st measure of a 2nd volta, should have MN 14, not MN 15.\n"
     ]
    }
   ],
   "source": [
    "for entry in os.scandir(CONVERSION_FOLDER):\n",
    "    if entry.is_dir():\n",
    "        continue\n",
    "    parsed = ms3.Score(entry.path, read_only=True)\n",
    "    ID, _ = os.path.splitext(entry.name)\n",
    "    tsv_name = f\"{ID}.tsv\"\n",
    "    dataframes = dict(\n",
    "        events = parsed.mscx.events(),\n",
    "        notes = parsed.mscx.notes(),\n",
    "        measures = parsed.mscx.measures(),\n",
    "        labels = parsed.mscx.labels(),\n",
    "    )\n",
    "    for facet, df in dataframes.items():\n",
    "        if df is None:\n",
    "            continue\n",
    "        tsv_path = os.path.join(OUTPUT_PATHS[facet], tsv_name)\n",
    "        df.to_csv(tsv_path, sep='\\t', index=False)\n",
    "    metadata = parsed.mscx.metadata # please add this nested dictionary to the JSON stored in the previous step\n",
    "    metadata['id'] = ID"
   ]
  },
  {
   "cell_type": "code",
   "execution_count": null,
   "id": "2cda45eb-02bb-437e-b043-a5b9d7d4e3de",
   "metadata": {},
   "outputs": [],
   "source": []
  }
 ],
 "metadata": {
  "kernelspec": {
   "display_name": "ms3",
   "language": "python",
   "name": "ms3"
  },
  "language_info": {
   "codemirror_mode": {
    "name": "ipython",
    "version": 3
   },
   "file_extension": ".py",
   "mimetype": "text/x-python",
   "name": "python",
   "nbconvert_exporter": "python",
   "pygments_lexer": "ipython3",
   "version": "3.10.4"
  }
 },
 "nbformat": 4,
 "nbformat_minor": 5
}
